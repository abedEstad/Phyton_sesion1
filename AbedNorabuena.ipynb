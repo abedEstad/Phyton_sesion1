{
  "nbformat": 4,
  "nbformat_minor": 0,
  "metadata": {
    "colab": {
      "name": "AbedNorabuena.ipynb",
      "provenance": [],
      "authorship_tag": "ABX9TyOAf0rCVB8eTK2EAxOd8wnv",
      "include_colab_link": true
    },
    "kernelspec": {
      "name": "python3",
      "display_name": "Python 3"
    },
    "language_info": {
      "name": "python"
    }
  },
  "cells": [
    {
      "cell_type": "markdown",
      "metadata": {
        "id": "view-in-github",
        "colab_type": "text"
      },
      "source": [
        "<a href=\"https://colab.research.google.com/github/abedEstad/Phyton_sesion1/blob/main/AbedNorabuena.ipynb\" target=\"_parent\"><img src=\"https://colab.research.google.com/assets/colab-badge.svg\" alt=\"Open In Colab\"/></a>"
      ]
    },
    {
      "cell_type": "code",
      "metadata": {
        "id": "VO20LK_kdl8R",
        "colab": {
          "base_uri": "https://localhost:8080/"
        },
        "outputId": "e3e1d0f1-d832-4e06-c07f-5962dc71dc14"
      },
      "source": [
        "x=8\n",
        "nombre=\"juan\"\n",
        "x=nombre\n",
        "y=x\n",
        "print(\"El valor de x es:\", y)"
      ],
      "execution_count": null,
      "outputs": [
        {
          "output_type": "stream",
          "text": [
            "El valor de x es: juan\n"
          ],
          "name": "stdout"
        }
      ]
    },
    {
      "cell_type": "code",
      "metadata": {
        "colab": {
          "base_uri": "https://localhost:8080/"
        },
        "id": "_fS3sh0Nk3NC",
        "outputId": "50f16da9-6a55-4a0d-b18e-0abb3ca547eb"
      },
      "source": [
        "valorVerdadero = True\n",
        "valorFalso = False\n",
        "type(valorVerdadero)"
      ],
      "execution_count": null,
      "outputs": [
        {
          "output_type": "execute_result",
          "data": {
            "text/plain": [
              "bool"
            ]
          },
          "metadata": {
            "tags": []
          },
          "execution_count": 3
        }
      ]
    },
    {
      "cell_type": "code",
      "metadata": {
        "colab": {
          "base_uri": "https://localhost:8080/",
          "height": 129
        },
        "id": "CQhPEwLMmzwG",
        "outputId": "840d20ad-b83d-4902-cb96-f606020c5ec7"
      },
      "source": [
        "binario = 0bb1\n",
        "binario"
      ],
      "execution_count": null,
      "outputs": [
        {
          "output_type": "error",
          "ename": "SyntaxError",
          "evalue": "ignored",
          "traceback": [
            "\u001b[0;36m  File \u001b[0;32m\"<ipython-input-6-6137a15da2ad>\"\u001b[0;36m, line \u001b[0;32m1\u001b[0m\n\u001b[0;31m    binario = 0bb1\u001b[0m\n\u001b[0m               ^\u001b[0m\n\u001b[0;31mSyntaxError\u001b[0m\u001b[0;31m:\u001b[0m invalid token\n"
          ]
        }
      ]
    },
    {
      "cell_type": "code",
      "metadata": {
        "colab": {
          "base_uri": "https://localhost:8080/"
        },
        "id": "0zcB1qaIluBQ",
        "outputId": "b7a6168e-2322-40c6-b0bf-9abcdc6b195a"
      },
      "source": [
        "cadena = \"esto es una cadena de texto\"\n",
        "type(cadena)"
      ],
      "execution_count": null,
      "outputs": [
        {
          "output_type": "execute_result",
          "data": {
            "text/plain": [
              "str"
            ]
          },
          "metadata": {
            "tags": []
          },
          "execution_count": 4
        }
      ]
    },
    {
      "cell_type": "code",
      "metadata": {
        "colab": {
          "base_uri": "https://localhost:8080/"
        },
        "id": "8iLWztuJW6ZK",
        "outputId": "308aaa4d-b0f6-4884-d194-2aad789ab9cd"
      },
      "source": [
        "cad1 = \"Hola\"\n",
        "cad2 = \"Perú\"\n",
        "resp1 = cad1 +cad2\n",
        "print(resp1)"
      ],
      "execution_count": null,
      "outputs": [
        {
          "output_type": "stream",
          "text": [
            "HolaPerú\n"
          ],
          "name": "stdout"
        }
      ]
    },
    {
      "cell_type": "code",
      "metadata": {
        "colab": {
          "base_uri": "https://localhost:8080/",
          "height": 197
        },
        "id": "Ry5p2SU6XzGY",
        "outputId": "203cc498-fe9f-4e00-df54-332bae0489f9"
      },
      "source": [
        "cad3 = \"123\"\n",
        "cad3 = cad3 + 1\n",
        "print(cad3)\n",
        "#error de concatenación por cadena y entero"
      ],
      "execution_count": null,
      "outputs": [
        {
          "output_type": "error",
          "ename": "TypeError",
          "evalue": "ignored",
          "traceback": [
            "\u001b[0;31m---------------------------------------------------------------------------\u001b[0m",
            "\u001b[0;31mTypeError\u001b[0m                                 Traceback (most recent call last)",
            "\u001b[0;32m<ipython-input-6-425ed04f848e>\u001b[0m in \u001b[0;36m<module>\u001b[0;34m()\u001b[0m\n\u001b[1;32m      1\u001b[0m \u001b[0mcad3\u001b[0m \u001b[0;34m=\u001b[0m \u001b[0;34m\"123\"\u001b[0m\u001b[0;34m\u001b[0m\u001b[0;34m\u001b[0m\u001b[0m\n\u001b[0;32m----> 2\u001b[0;31m \u001b[0mcad3\u001b[0m \u001b[0;34m=\u001b[0m \u001b[0mcad3\u001b[0m \u001b[0;34m+\u001b[0m \u001b[0;36m1\u001b[0m\u001b[0;34m\u001b[0m\u001b[0;34m\u001b[0m\u001b[0m\n\u001b[0m\u001b[1;32m      3\u001b[0m \u001b[0mprint\u001b[0m\u001b[0;34m(\u001b[0m\u001b[0mcad3\u001b[0m\u001b[0;34m)\u001b[0m\u001b[0;34m\u001b[0m\u001b[0;34m\u001b[0m\u001b[0m\n",
            "\u001b[0;31mTypeError\u001b[0m: can only concatenate str (not \"int\") to str"
          ]
        }
      ]
    },
    {
      "cell_type": "code",
      "metadata": {
        "colab": {
          "base_uri": "https://localhost:8080/"
        },
        "id": "vOWpRfQfYRD0",
        "outputId": "0b90e74c-8902-4ae3-fb52-f55b484995ae"
      },
      "source": [
        " x = int(cad3) +1\n",
        " print(x)\n"
      ],
      "execution_count": null,
      "outputs": [
        {
          "output_type": "stream",
          "text": [
            "124\n"
          ],
          "name": "stdout"
        }
      ]
    },
    {
      "cell_type": "code",
      "metadata": {
        "colab": {
          "base_uri": "https://localhost:8080/"
        },
        "id": "IAYTJHERZtYA",
        "outputId": "56c0ddb1-8886-40da-f405-b31113926881"
      },
      "source": [
        "name = input(\"Enter \")\n",
        "print(name)\n",
        "x = int(name) -10\n",
        "print(x)"
      ],
      "execution_count": null,
      "outputs": [
        {
          "output_type": "stream",
          "text": [
            "Enter 16\n",
            "16\n",
            "6\n"
          ],
          "name": "stdout"
        }
      ]
    },
    {
      "cell_type": "code",
      "metadata": {
        "colab": {
          "base_uri": "https://localhost:8080/"
        },
        "id": "kCmmu1uCeSlI",
        "outputId": "f4956a20-c7e1-43a6-a9ea-a39bca9e22c7"
      },
      "source": [
        "fruta = \"platano\"\n",
        "x = len(fruta)\n",
        "print(x)"
      ],
      "execution_count": null,
      "outputs": [
        {
          "output_type": "stream",
          "text": [
            "7\n"
          ],
          "name": "stdout"
        }
      ]
    },
    {
      "cell_type": "code",
      "metadata": {
        "colab": {
          "base_uri": "https://localhost:8080/"
        },
        "id": "pyzi4hkseljH",
        "outputId": "ffab41e0-e98e-4bfa-80bf-12db57da8e56"
      },
      "source": [
        "fruta = \"platano\"\n",
        "indice = 0\n",
        "while indice < len(fruta):\n",
        "  letra = fruta[indice]\n",
        "  print(indice, letra)\n",
        "  indice = indice + 1\n",
        "  "
      ],
      "execution_count": null,
      "outputs": [
        {
          "output_type": "stream",
          "text": [
            "0 p\n",
            "1 l\n",
            "2 a\n",
            "3 t\n",
            "4 a\n",
            "5 n\n",
            "6 o\n"
          ],
          "name": "stdout"
        }
      ]
    },
    {
      "cell_type": "code",
      "metadata": {
        "colab": {
          "base_uri": "https://localhost:8080/"
        },
        "id": "OQYUD0gtizgX",
        "outputId": "7a06da34-daa8-4823-fbc3-fe61d443205a"
      },
      "source": [
        "fruta = \"naranja\"\n",
        "i=0\n",
        "letra = fruta[i]\n",
        "for letra in fruta:\n",
        "  print(letra)\n"
      ],
      "execution_count": null,
      "outputs": [
        {
          "output_type": "stream",
          "text": [
            "n\n",
            "a\n",
            "r\n",
            "a\n",
            "n\n",
            "j\n",
            "a\n"
          ],
          "name": "stdout"
        }
      ]
    },
    {
      "cell_type": "code",
      "metadata": {
        "colab": {
          "base_uri": "https://localhost:8080/"
        },
        "id": "53WyV6y3jiU4",
        "outputId": "3fc5b820-dd67-435d-e59e-96ada54102ba"
      },
      "source": [
        "palabra = \"mandarina\"\n",
        "count = 0\n",
        "for letra in palabra:\n",
        "  if letra == \"a\":\n",
        "    count=count+1\n",
        "print(count)"
      ],
      "execution_count": null,
      "outputs": [
        {
          "output_type": "stream",
          "text": [
            "3\n"
          ],
          "name": "stdout"
        }
      ]
    },
    {
      "cell_type": "code",
      "metadata": {
        "colab": {
          "base_uri": "https://localhost:8080/",
          "height": 129
        },
        "id": "mszrao-PnwdZ",
        "outputId": "7f2aabac-3b3a-4d60-f5b9-d7d8a7de2be3"
      },
      "source": [
        "fruta = \"platano\"\n",
        "\"n\" in fruta\n",
        "\"z\" in fruta  \n",
        "if \"a\" in fruta:\n",
        "  print(\"Encontrado!\")"
      ],
      "execution_count": null,
      "outputs": [
        {
          "output_type": "error",
          "ename": "SyntaxError",
          "evalue": "ignored",
          "traceback": [
            "\u001b[0;36m  File \u001b[0;32m\"<ipython-input-4-87a6b81aa1c6>\"\u001b[0;36m, line \u001b[0;32m6\u001b[0m\n\u001b[0;31m    else:\u001b[0m\n\u001b[0m       ^\u001b[0m\n\u001b[0;31mSyntaxError\u001b[0m\u001b[0;31m:\u001b[0m invalid syntax\n"
          ]
        }
      ]
    },
    {
      "cell_type": "code",
      "metadata": {
        "colab": {
          "base_uri": "https://localhost:8080/"
        },
        "id": "fbuRqgXWSzQt",
        "outputId": "70c8f69b-8a3c-4e9f-f198-57645fdcdd53"
      },
      "source": [
        "print (\"Buenos dias gente\")\n",
        "s = \"Phyton mensual\"\n",
        "print(s[:2])\n",
        "print (\"Buenos dias gente\")\n",
        "s = \"Phyton mensual\"\n",
        "print(s[:2])\n",
        "print(s[8:])\n",
        "print(s[:])"
      ],
      "execution_count": null,
      "outputs": [
        {
          "output_type": "stream",
          "text": [
            "Buenos dias gente\n",
            "Ph\n",
            "ensual\n",
            "Phyton mensual\n"
          ],
          "name": "stdout"
        }
      ]
    },
    {
      "cell_type": "code",
      "metadata": {
        "id": "GqVysQGRfzQ7"
      },
      "source": [
        ""
      ],
      "execution_count": null,
      "outputs": []
    }
  ]
}