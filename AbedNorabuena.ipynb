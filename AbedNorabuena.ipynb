{
  "nbformat": 4,
  "nbformat_minor": 0,
  "metadata": {
    "colab": {
      "name": "AbedNorabuena.ipynb",
      "provenance": [],
      "authorship_tag": "ABX9TyOOATCpsWKgKgV3JYT3jsck",
      "include_colab_link": true
    },
    "kernelspec": {
      "name": "python3",
      "display_name": "Python 3"
    },
    "language_info": {
      "name": "python"
    }
  },
  "cells": [
    {
      "cell_type": "markdown",
      "metadata": {
        "id": "view-in-github",
        "colab_type": "text"
      },
      "source": [
        "<a href=\"https://colab.research.google.com/github/abedEstad/Phyton_sesion1/blob/main/AbedNorabuena.ipynb\" target=\"_parent\"><img src=\"https://colab.research.google.com/assets/colab-badge.svg\" alt=\"Open In Colab\"/></a>"
      ]
    },
    {
      "cell_type": "code",
      "metadata": {
        "id": "VO20LK_kdl8R",
        "colab": {
          "base_uri": "https://localhost:8080/"
        },
        "outputId": "e3e1d0f1-d832-4e06-c07f-5962dc71dc14"
      },
      "source": [
        "x=8\n",
        "nombre=\"juan\"\n",
        "x=nombre\n",
        "y=x\n",
        "print(\"El valor de x es:\", y)"
      ],
      "execution_count": null,
      "outputs": [
        {
          "output_type": "stream",
          "text": [
            "El valor de x es: juan\n"
          ],
          "name": "stdout"
        }
      ]
    },
    {
      "cell_type": "code",
      "metadata": {
        "colab": {
          "base_uri": "https://localhost:8080/"
        },
        "id": "_fS3sh0Nk3NC",
        "outputId": "50f16da9-6a55-4a0d-b18e-0abb3ca547eb"
      },
      "source": [
        "valorVerdadero = True\n",
        "valorFalso = False\n",
        "type(valorVerdadero)"
      ],
      "execution_count": null,
      "outputs": [
        {
          "output_type": "execute_result",
          "data": {
            "text/plain": [
              "bool"
            ]
          },
          "metadata": {
            "tags": []
          },
          "execution_count": 3
        }
      ]
    },
    {
      "cell_type": "code",
      "metadata": {
        "colab": {
          "base_uri": "https://localhost:8080/",
          "height": 129
        },
        "id": "CQhPEwLMmzwG",
        "outputId": "840d20ad-b83d-4902-cb96-f606020c5ec7"
      },
      "source": [
        "binario = 0bb1\n",
        "binario"
      ],
      "execution_count": null,
      "outputs": [
        {
          "output_type": "error",
          "ename": "SyntaxError",
          "evalue": "ignored",
          "traceback": [
            "\u001b[0;36m  File \u001b[0;32m\"<ipython-input-6-6137a15da2ad>\"\u001b[0;36m, line \u001b[0;32m1\u001b[0m\n\u001b[0;31m    binario = 0bb1\u001b[0m\n\u001b[0m               ^\u001b[0m\n\u001b[0;31mSyntaxError\u001b[0m\u001b[0;31m:\u001b[0m invalid token\n"
          ]
        }
      ]
    },
    {
      "cell_type": "code",
      "metadata": {
        "colab": {
          "base_uri": "https://localhost:8080/"
        },
        "id": "0zcB1qaIluBQ",
        "outputId": "b7a6168e-2322-40c6-b0bf-9abcdc6b195a"
      },
      "source": [
        "cadena = \"esto es una cadena de texto\"\n",
        "type(cadena)"
      ],
      "execution_count": null,
      "outputs": [
        {
          "output_type": "execute_result",
          "data": {
            "text/plain": [
              "str"
            ]
          },
          "metadata": {
            "tags": []
          },
          "execution_count": 4
        }
      ]
    },
    {
      "cell_type": "code",
      "metadata": {
        "colab": {
          "base_uri": "https://localhost:8080/"
        },
        "id": "8iLWztuJW6ZK",
        "outputId": "308aaa4d-b0f6-4884-d194-2aad789ab9cd"
      },
      "source": [
        "cad1 = \"Hola\"\n",
        "cad2 = \"Perú\"\n",
        "resp1 = cad1 +cad2\n",
        "print(resp1)"
      ],
      "execution_count": null,
      "outputs": [
        {
          "output_type": "stream",
          "text": [
            "HolaPerú\n"
          ],
          "name": "stdout"
        }
      ]
    },
    {
      "cell_type": "code",
      "metadata": {
        "colab": {
          "base_uri": "https://localhost:8080/",
          "height": 197
        },
        "id": "Ry5p2SU6XzGY",
        "outputId": "203cc498-fe9f-4e00-df54-332bae0489f9"
      },
      "source": [
        "cad3 = \"123\"\n",
        "cad3 = cad3 + 1\n",
        "print(cad3)\n",
        "#error de concatenación por cadena y entero"
      ],
      "execution_count": null,
      "outputs": [
        {
          "output_type": "error",
          "ename": "TypeError",
          "evalue": "ignored",
          "traceback": [
            "\u001b[0;31m---------------------------------------------------------------------------\u001b[0m",
            "\u001b[0;31mTypeError\u001b[0m                                 Traceback (most recent call last)",
            "\u001b[0;32m<ipython-input-6-425ed04f848e>\u001b[0m in \u001b[0;36m<module>\u001b[0;34m()\u001b[0m\n\u001b[1;32m      1\u001b[0m \u001b[0mcad3\u001b[0m \u001b[0;34m=\u001b[0m \u001b[0;34m\"123\"\u001b[0m\u001b[0;34m\u001b[0m\u001b[0;34m\u001b[0m\u001b[0m\n\u001b[0;32m----> 2\u001b[0;31m \u001b[0mcad3\u001b[0m \u001b[0;34m=\u001b[0m \u001b[0mcad3\u001b[0m \u001b[0;34m+\u001b[0m \u001b[0;36m1\u001b[0m\u001b[0;34m\u001b[0m\u001b[0;34m\u001b[0m\u001b[0m\n\u001b[0m\u001b[1;32m      3\u001b[0m \u001b[0mprint\u001b[0m\u001b[0;34m(\u001b[0m\u001b[0mcad3\u001b[0m\u001b[0;34m)\u001b[0m\u001b[0;34m\u001b[0m\u001b[0;34m\u001b[0m\u001b[0m\n",
            "\u001b[0;31mTypeError\u001b[0m: can only concatenate str (not \"int\") to str"
          ]
        }
      ]
    },
    {
      "cell_type": "code",
      "metadata": {
        "colab": {
          "base_uri": "https://localhost:8080/"
        },
        "id": "vOWpRfQfYRD0",
        "outputId": "0b90e74c-8902-4ae3-fb52-f55b484995ae"
      },
      "source": [
        " x = int(cad3) +1\n",
        " print(x)\n"
      ],
      "execution_count": null,
      "outputs": [
        {
          "output_type": "stream",
          "text": [
            "124\n"
          ],
          "name": "stdout"
        }
      ]
    },
    {
      "cell_type": "code",
      "metadata": {
        "colab": {
          "base_uri": "https://localhost:8080/"
        },
        "id": "IAYTJHERZtYA",
        "outputId": "5a99ec24-3604-4a60-9ace-6dfd1b240b1c"
      },
      "source": [
        "name = input(\"Enter \")\n",
        "print(name)\n",
        "x = int(name) -10\n",
        "print(x)"
      ],
      "execution_count": 26,
      "outputs": [
        {
          "output_type": "stream",
          "text": [
            "Enter 16\n",
            "16\n",
            "6\n"
          ],
          "name": "stdout"
        }
      ]
    },
    {
      "cell_type": "code",
      "metadata": {
        "colab": {
          "base_uri": "https://localhost:8080/"
        },
        "id": "kCmmu1uCeSlI",
        "outputId": "f4956a20-c7e1-43a6-a9ea-a39bca9e22c7"
      },
      "source": [
        "fruta = \"platano\"\n",
        "x = len(fruta)\n",
        "print(x)"
      ],
      "execution_count": null,
      "outputs": [
        {
          "output_type": "stream",
          "text": [
            "7\n"
          ],
          "name": "stdout"
        }
      ]
    },
    {
      "cell_type": "code",
      "metadata": {
        "colab": {
          "base_uri": "https://localhost:8080/"
        },
        "id": "pyzi4hkseljH",
        "outputId": "ffab41e0-e98e-4bfa-80bf-12db57da8e56"
      },
      "source": [
        "fruta = \"platano\"\n",
        "indice = 0\n",
        "while indice < len(fruta):\n",
        "  letra = fruta[indice]\n",
        "  print(indice, letra)\n",
        "  indice = indice + 1\n",
        "  "
      ],
      "execution_count": null,
      "outputs": [
        {
          "output_type": "stream",
          "text": [
            "0 p\n",
            "1 l\n",
            "2 a\n",
            "3 t\n",
            "4 a\n",
            "5 n\n",
            "6 o\n"
          ],
          "name": "stdout"
        }
      ]
    },
    {
      "cell_type": "code",
      "metadata": {
        "colab": {
          "base_uri": "https://localhost:8080/"
        },
        "id": "OQYUD0gtizgX",
        "outputId": "7a06da34-daa8-4823-fbc3-fe61d443205a"
      },
      "source": [
        "fruta = \"naranja\"\n",
        "i=0\n",
        "letra = fruta[i]\n",
        "for letra in fruta:\n",
        "  print(letra)\n"
      ],
      "execution_count": null,
      "outputs": [
        {
          "output_type": "stream",
          "text": [
            "n\n",
            "a\n",
            "r\n",
            "a\n",
            "n\n",
            "j\n",
            "a\n"
          ],
          "name": "stdout"
        }
      ]
    },
    {
      "cell_type": "code",
      "metadata": {
        "colab": {
          "base_uri": "https://localhost:8080/"
        },
        "id": "53WyV6y3jiU4",
        "outputId": "3fc5b820-dd67-435d-e59e-96ada54102ba"
      },
      "source": [
        "palabra = \"mandarina\"\n",
        "count = 0\n",
        "for letra in palabra:\n",
        "  if letra == \"a\":\n",
        "    count=count+1\n",
        "print(count)"
      ],
      "execution_count": null,
      "outputs": [
        {
          "output_type": "stream",
          "text": [
            "3\n"
          ],
          "name": "stdout"
        }
      ]
    },
    {
      "cell_type": "code",
      "metadata": {
        "colab": {
          "base_uri": "https://localhost:8080/",
          "height": 129
        },
        "id": "mszrao-PnwdZ",
        "outputId": "7f2aabac-3b3a-4d60-f5b9-d7d8a7de2be3"
      },
      "source": [
        "fruta = \"platano\"\n",
        "\"n\" in fruta\n",
        "\"z\" in fruta  \n",
        "if \"a\" in fruta:\n",
        "  print(\"Encontrado!\")"
      ],
      "execution_count": null,
      "outputs": [
        {
          "output_type": "error",
          "ename": "SyntaxError",
          "evalue": "ignored",
          "traceback": [
            "\u001b[0;36m  File \u001b[0;32m\"<ipython-input-4-87a6b81aa1c6>\"\u001b[0;36m, line \u001b[0;32m6\u001b[0m\n\u001b[0;31m    else:\u001b[0m\n\u001b[0m       ^\u001b[0m\n\u001b[0;31mSyntaxError\u001b[0m\u001b[0;31m:\u001b[0m invalid syntax\n"
          ]
        }
      ]
    },
    {
      "cell_type": "code",
      "metadata": {
        "colab": {
          "base_uri": "https://localhost:8080/"
        },
        "id": "fbuRqgXWSzQt",
        "outputId": "70c8f69b-8a3c-4e9f-f198-57645fdcdd53"
      },
      "source": [
        "print (\"Buenos dias gente\")\n",
        "s = \"Phyton mensual\"\n",
        "print(s[:2])\n",
        "print (\"Buenos dias gente\")\n",
        "s = \"Phyton mensual\"\n",
        "print(s[:2])\n",
        "print(s[8:])\n",
        "print(s[:])"
      ],
      "execution_count": null,
      "outputs": [
        {
          "output_type": "stream",
          "text": [
            "Buenos dias gente\n",
            "Ph\n",
            "ensual\n",
            "Phyton mensual\n"
          ],
          "name": "stdout"
        }
      ]
    },
    {
      "cell_type": "code",
      "metadata": {
        "id": "GqVysQGRfzQ7",
        "colab": {
          "base_uri": "https://localhost:8080/"
        },
        "outputId": "60677c46-bbb0-4e15-fb1b-c08e847e4580"
      },
      "source": [
        "generales = [\"Abed Norabuena\", 28, True, \"Lima\"]\n",
        "print(generales)"
      ],
      "execution_count": null,
      "outputs": [
        {
          "output_type": "stream",
          "text": [
            "['Abed Norabuena', 28, True, 'Lima']\n"
          ],
          "name": "stdout"
        }
      ]
    },
    {
      "cell_type": "code",
      "metadata": {
        "colab": {
          "base_uri": "https://localhost:8080/"
        },
        "id": "--VW2R4YneC7",
        "outputId": "b388ad56-4747-420f-a7a5-285ab0ccf9a6"
      },
      "source": [
        "type(generales)\n",
        "nombres =generales[0]\n",
        "print(nombres)"
      ],
      "execution_count": null,
      "outputs": [
        {
          "output_type": "stream",
          "text": [
            "Abed Norabuena\n"
          ],
          "name": "stdout"
        }
      ]
    },
    {
      "cell_type": "code",
      "metadata": {
        "colab": {
          "base_uri": "https://localhost:8080/"
        },
        "id": "d0OfTn6Zn57p",
        "outputId": "4c420aee-e6d7-4f44-c616-6a67df80b9d0"
      },
      "source": [
        "#obtener departamento\n",
        "dpto = generales[3]\n",
        "dpto\n",
        "#Antes del indice:\n",
        "datosantes = generales[:2]\n",
        "datosantes\n"
      ],
      "execution_count": null,
      "outputs": [
        {
          "output_type": "execute_result",
          "data": {
            "text/plain": [
              "[True]"
            ]
          },
          "metadata": {
            "tags": []
          },
          "execution_count": 13
        }
      ]
    },
    {
      "cell_type": "code",
      "metadata": {
        "colab": {
          "base_uri": "https://localhost:8080/"
        },
        "id": "QSyuDnPBq4tP",
        "outputId": "67e91176-998e-4e0d-a60b-29b6edd394e0"
      },
      "source": [
        "datoscentro = generales[1:3]\n",
        "datoscentro"
      ],
      "execution_count": null,
      "outputs": [
        {
          "output_type": "execute_result",
          "data": {
            "text/plain": [
              "[28, True]"
            ]
          },
          "metadata": {
            "tags": []
          },
          "execution_count": 15
        }
      ]
    },
    {
      "cell_type": "code",
      "metadata": {
        "id": "zS0m0YjBf2d7"
      },
      "source": [
        "x = 4\n",
        "y = 6\n",
        "if x < 2:\n",
        "  y=5\n",
        "  print(\"Se ejectuó el if\")\n",
        "else:\n",
        "  y=2\n",
        "  print(\"Se ejecutó el else\")\n",
        "print(y)"
      ],
      "execution_count": null,
      "outputs": []
    },
    {
      "cell_type": "code",
      "metadata": {
        "id": "Gmgt4Uzef6i8"
      },
      "source": [
        "x = 4\n",
        "y = 6\n",
        "if x==4 or y < 2:\n",
        "  y=5\n",
        "  print(\"Se ejectuó el if\")\n",
        "else:\n",
        "  y=2\n",
        "  print(\"Se ejecutó el else\")\n",
        "print(y)"
      ],
      "execution_count": null,
      "outputs": []
    },
    {
      "cell_type": "code",
      "metadata": {
        "id": "tbDwZymXf8rJ"
      },
      "source": [
        "x=2\n",
        "y=6\n",
        "if x==4:\n",
        "  y=1\n",
        "elif x==2:\n",
        "  y=2\n",
        "elif  x==6:\n",
        "  y=3\n",
        "elif x==8:\n",
        "  y=4\n",
        "else:\n",
        "  y=5\n",
        "\n",
        "print(\"El valor de y es:\", y)"
      ],
      "execution_count": null,
      "outputs": []
    },
    {
      "cell_type": "code",
      "metadata": {
        "id": "E1SZa0v2gAHC"
      },
      "source": [
        "a = 10\n",
        "b = 9\n",
        "if a > b: print(\"a es mayor que b\")"
      ],
      "execution_count": null,
      "outputs": []
    },
    {
      "cell_type": "code",
      "metadata": {
        "id": "lfhEhNcggI5G"
      },
      "source": [
        "lista = [10,523,643]\n",
        "suma = 0\n",
        "for variable in lista:\n",
        "  suma = suma + variable\n",
        "  print(\"La iteracion de la suma es: \", suma)\n",
        "\n",
        "print(\"La suma total es: \", suma)"
      ],
      "execution_count": null,
      "outputs": []
    },
    {
      "cell_type": "code",
      "metadata": {
        "id": "jJBC6jBTgLTK"
      },
      "source": [
        "lista = [10,523,643,243,458]\n",
        "\n",
        "indice =0\n",
        "for variable in lista:\n",
        "  suma = suma + variable\n",
        "  print(\"La iteracion de la suma es: \", suma)\n",
        "\n",
        "print(\"La suma total es: \", suma)"
      ],
      "execution_count": null,
      "outputs": []
    },
    {
      "cell_type": "code",
      "metadata": {
        "id": "rNeSy-eVgN70"
      },
      "source": [
        "x = 0\n",
        "y = 3\n",
        "while x < y:\n",
        "    print(x)\n",
        "    x += 1\n",
        "    print(\"Nuevo valor de x es: \",x)"
      ],
      "execution_count": null,
      "outputs": []
    },
    {
      "cell_type": "code",
      "metadata": {
        "id": "WJNMH7K0gQ_k"
      },
      "source": [
        "x = 0\n",
        "y = 150\n",
        "while x < y:\n",
        "    print (x)\n",
        "    x+=1\n",
        "    if x == 50:\n",
        "        break\n",
        "    else:\n",
        "        print (\"Nuevo valor de x es:\",x)"
      ],
      "execution_count": null,
      "outputs": []
    },
    {
      "cell_type": "code",
      "metadata": {
        "id": "1JLI3ZsPghuT"
      },
      "source": [
        "for i in range (1, 10):\n",
        "    if i % 2 != 0:\n",
        "        continue\n",
        "    print (i)"
      ],
      "execution_count": null,
      "outputs": []
    },
    {
      "cell_type": "code",
      "metadata": {
        "id": "l8G0ppkZgigV"
      },
      "source": [
        "def resta(a, b):\n",
        "  return a - b\n",
        "resta(30, 20)"
      ],
      "execution_count": null,
      "outputs": []
    },
    {
      "cell_type": "code",
      "metadata": {
        "id": "Yx1vCe8vgovj"
      },
      "source": [
        "def escribe_media(x, y):\n",
        "    media = (x + y) / 2\n",
        "    print(f\"La media de {x} y {y} es: {media}\")\n",
        "    return\n",
        "\n",
        "a = 3\n",
        "b = 5\n",
        "escribe_media(a, b)"
      ],
      "execution_count": null,
      "outputs": []
    },
    {
      "cell_type": "code",
      "metadata": {
        "id": "hzuCQAVMgk-S"
      },
      "source": [
        "def media_sigma(*args):\n",
        "    total = 0\n",
        "    for i in args:\n",
        "        total += i\n",
        "    media = total / len(args)\n",
        "    total = 0\n",
        "    for i in args:\n",
        "        total += (i - media) ** 2\n",
        "    desviacion = (total / len(args)) ** 0.5\n",
        "    return media, desviacion\n",
        "\n",
        "a, b, c, d = 23, 25, 19, 25\n",
        "media, desviacion_tipica = media_sigma (a, b, c, d)\n",
        "print(f\"Datos: {a} {b} {c} {d}\")\n",
        "print(f\"Media: {media}\")\n",
        "print(f\"Desviación típica: {desviacion_tipica}\")"
      ],
      "execution_count": null,
      "outputs": []
    },
    {
      "cell_type": "code",
      "metadata": {
        "id": "f_qiErp42d4l"
      },
      "source": [
        "import pandas as pd\n",
        "#Creando listas \n",
        "nombres=[\"Rossmery\", \"Sussan\", \"Nicolas\", \"Abed\"]\n",
        "edad=[23,29,23,26]\n",
        "pais=[\"Ecuador\", \"Perú\", \"Brasil\", \"Argentina\"]\n",
        "educacion=[\"Bachiller\", \"Licenciado\", \"Bachiller\", \"PhD\"]"
      ],
      "execution_count": 27,
      "outputs": []
    },
    {
      "cell_type": "code",
      "metadata": {
        "colab": {
          "base_uri": "https://localhost:8080/"
        },
        "id": "DMgYxlaE3OnE",
        "outputId": "85046d0d-f04a-4771-910d-8cedf7b48608"
      },
      "source": [
        "data = {\n",
        "    'nombres': nombres,\n",
        "    'edad': edad,\n",
        "    'pais':pais,\n",
        "    'eduacion':educacion\n",
        "    }\n",
        "data"
      ],
      "execution_count": 28,
      "outputs": [
        {
          "output_type": "execute_result",
          "data": {
            "text/plain": [
              "{'edad': [23, 29, 23, 26],\n",
              " 'eduacion': ['Bachiller', 'Licenciado', 'Bachiller', 'PhD'],\n",
              " 'nombres': ['Rossmery', 'Sussan', 'Nicolas', 'Abed'],\n",
              " 'pais': ['Ecuador', 'Perú', 'Brasil', 'Argentina']}"
            ]
          },
          "metadata": {
            "tags": []
          },
          "execution_count": 28
        }
      ]
    },
    {
      "cell_type": "code",
      "metadata": {
        "colab": {
          "base_uri": "https://localhost:8080/",
          "height": 165
        },
        "id": "pTm3q8GH1-5u",
        "outputId": "03c8579f-6444-4872-ecca-e039c66ea7ea"
      },
      "source": [
        "df_estudiantes = pd.DataFrame(data)\n",
        "print(df_estudiantes)\n",
        "df_estudiantes[df_estudiantes[\"nombres\"]==\"Nicolas\"]"
      ],
      "execution_count": null,
      "outputs": [
        {
          "output_type": "stream",
          "text": [
            "    nombres  edad       pais    eduacion\n",
            "0  Rossmery    23    Ecuador   Bachiller\n",
            "1    Sussan    29       Perú  Licenciado\n",
            "2   Nicolas    23     Brasil   Bachiller\n",
            "3      Abed    26  Argentina         PhD\n"
          ],
          "name": "stdout"
        },
        {
          "output_type": "execute_result",
          "data": {
            "text/html": [
              "<div>\n",
              "<style scoped>\n",
              "    .dataframe tbody tr th:only-of-type {\n",
              "        vertical-align: middle;\n",
              "    }\n",
              "\n",
              "    .dataframe tbody tr th {\n",
              "        vertical-align: top;\n",
              "    }\n",
              "\n",
              "    .dataframe thead th {\n",
              "        text-align: right;\n",
              "    }\n",
              "</style>\n",
              "<table border=\"1\" class=\"dataframe\">\n",
              "  <thead>\n",
              "    <tr style=\"text-align: right;\">\n",
              "      <th></th>\n",
              "      <th>nombres</th>\n",
              "      <th>edad</th>\n",
              "      <th>pais</th>\n",
              "      <th>eduacion</th>\n",
              "    </tr>\n",
              "  </thead>\n",
              "  <tbody>\n",
              "    <tr>\n",
              "      <th>2</th>\n",
              "      <td>Nicolas</td>\n",
              "      <td>23</td>\n",
              "      <td>Brasil</td>\n",
              "      <td>Bachiller</td>\n",
              "    </tr>\n",
              "  </tbody>\n",
              "</table>\n",
              "</div>"
            ],
            "text/plain": [
              "   nombres  edad    pais   eduacion\n",
              "2  Nicolas    23  Brasil  Bachiller"
            ]
          },
          "metadata": {
            "tags": []
          },
          "execution_count": 25
        }
      ]
    },
    {
      "cell_type": "markdown",
      "metadata": {
        "id": "6wDHExoHID5o"
      },
      "source": [
        "**Clase: Clases**\n",
        "\n",
        "Fecha: 22/06/2021\n",
        "\n",
        "```\n",
        "# Esto tiene formato de código\n",
        "```\n",
        "\n"
      ]
    },
    {
      "cell_type": "code",
      "metadata": {
        "colab": {
          "base_uri": "https://localhost:8080/"
        },
        "id": "_QdcRX7WIenK",
        "outputId": "e481cd39-4634-4d61-b0c3-e0efe239350a"
      },
      "source": [
        "class Persona(object):\n",
        "    \"\"\"Clase que representa una Persona\"\"\"\n",
        "\n",
        "    def __init__(self, cedula, nombre, apellido, sexo):\n",
        "        \"\"\"Constructor de clase Persona\"\"\"\n",
        "        self.cedula = cedula\n",
        "        self.nombre = nombre\n",
        "        self.apellido = apellido\n",
        "        self.sexo = sexo\n",
        "\n",
        "\n",
        "    def __str__(self):\n",
        "        \"\"\"Devuelve una cadena representativa de Persona\"\"\"\n",
        "        return \"%s: %s, %s %s, %s.\" % (\n",
        "            self.__doc__[25:34], str(self.cedula), self.nombre, \n",
        "            self.apellido, self.getGenero(self.sexo))\n",
        "\n",
        "    def hablar(self, mensaje):\n",
        "        \"\"\"Mostrar mensaje de saludo de Persona\"\"\"\n",
        "        return mensaje\n",
        "\n",
        "    def getGenero(self):\n",
        "        \"\"\"Mostrar el genero de la Persona\"\"\"\n",
        "        genero = ('Masculino','Femenino')\n",
        "        if self.sexo == \"M\":\n",
        "            return genero[0]\n",
        "        elif self.sexo == \"F\":\n",
        "            return genero[1]\n",
        "        else:\n",
        "            return \"Desconocido\"\n",
        "\n",
        "    def get_nombre_apellido(self):\n",
        "        return self.nombre + \" \" + self.apellido\n",
        "    \n",
        "    def set_nombre(self, nuevo_nombre):\n",
        "        self.nombre = nuevo_nombre\n",
        "\n",
        "variable_persona = Persona(12131415,\"Luisa\",\"Gutierrez\",\"F\")            \n",
        "print(\"El sexo de la persona es: \", variable_persona.getGenero())\n",
        "print(\"El nombre completo de la persona es: \", variable_persona.get_nombre_apellido())\n",
        "\n",
        "variable_persona.set_nombre(\"Cecilia\")\n",
        "print(\"El nombre completo de la persona es: \", variable_persona.get_nombre_apellido())\n"
      ],
      "execution_count": 14,
      "outputs": [
        {
          "output_type": "stream",
          "text": [
            "El sexo de la persona es:  Femenino\n",
            "El nombre completo de la persona es:  Luisa Gutierrez\n",
            "El nombre completo de la persona es:  Cecilia Gutierrez\n"
          ],
          "name": "stdout"
        }
      ]
    },
    {
      "cell_type": "code",
      "metadata": {
        "id": "aPyMFCFKfiE2"
      },
      "source": [
        "class Animal(object):\n",
        "    \"\"\"Clase que representa a un animal\"\"\"\n",
        "\n",
        "    def __init__(self, tipo, nombre, sexo, extremidades):\n",
        "        \"\"\"Constructor de clase Persona\"\"\"\n",
        "        self.tipo = tipo\n",
        "        self.nombre = nombre\n",
        "        self.apellido = sexo\n",
        "        self.extremidades = extremidades\n",
        "\n",
        "    def mostrarTipo(self):\n",
        "        \"\"\"Mostrar tipo\"\"\"\n",
        "        return self.tipo\n",
        "\n",
        "    def mostrarNombre(self):\n",
        "        \"\"\"Mostrar nombre\"\"\"\n",
        "        return self.nombre\n",
        "\n",
        "    def mostrarSexo(self):\n",
        "        \"\"\"Mostrar el sexo\"\"\"\n",
        "        sexo = ('Macho','Hembra')\n",
        "        if self.sexo == \"M\":\n",
        "            return sexo[0]\n",
        "        elif self.sexo == \"H\":\n",
        "            return sexo[1]\n",
        "        else:\n",
        "            return \"No precisa\"\n",
        "\n",
        "    def mostrarExtremidades(self):\n",
        "        \"\"\"Mostrar el sexo\"\"\"\n",
        "        extremidades = ('Bipedo','Cuadrupedo')\n",
        "        if self.extremidades == \"B\":\n",
        "            return extremidades[0]\n",
        "\n",
        "        if self.extremidades == \"C\":\n",
        "            return extremidades[1]\n",
        "        else:\n",
        "            return \"Incorrecto\"\n",
        "\n",
        "animal1 = Animal(\"Perro\", \"Chavo\", \"Macho\", \"Cuadrupedo\")\n",
        "print(animal1)\n",
        "nombre = Animal.mostrarNombre()"
      ],
      "execution_count": null,
      "outputs": []
    },
    {
      "cell_type": "markdown",
      "metadata": {
        "id": "iy2T4deZiS4N"
      },
      "source": [
        "**Clase :  **\n",
        "\n",
        "Fecha: 24/06/2021\n"
      ]
    },
    {
      "cell_type": "code",
      "metadata": {
        "id": "otDlUySrkIyk"
      },
      "source": [
        "import datetime as dt"
      ],
      "execution_count": 18,
      "outputs": []
    },
    {
      "cell_type": "code",
      "metadata": {
        "colab": {
          "base_uri": "https://localhost:8080/",
          "height": 197
        },
        "id": "GGI6q2cEfqmr",
        "outputId": "4046083b-f9c0-4f79-9d96-9eca90777bf8"
      },
      "source": [
        "print(dt.time(1), \" 1 hora\")\n",
        "print(dt.time(2, 30), \"2 Horas y 30 minutos\")\n",
        "print(dt.time(3, 45, 30), \"3 Horas, 45 minutos y 30 segundos\")"
      ],
      "execution_count": 1,
      "outputs": [
        {
          "output_type": "error",
          "ename": "NameError",
          "evalue": "ignored",
          "traceback": [
            "\u001b[0;31m---------------------------------------------------------------------------\u001b[0m",
            "\u001b[0;31mNameError\u001b[0m                                 Traceback (most recent call last)",
            "\u001b[0;32m<ipython-input-1-fe540492b33e>\u001b[0m in \u001b[0;36m<module>\u001b[0;34m()\u001b[0m\n\u001b[0;32m----> 1\u001b[0;31m \u001b[0mprint\u001b[0m\u001b[0;34m(\u001b[0m\u001b[0mdt\u001b[0m\u001b[0;34m.\u001b[0m\u001b[0mtime\u001b[0m\u001b[0;34m(\u001b[0m\u001b[0;36m1\u001b[0m\u001b[0;34m)\u001b[0m\u001b[0;34m,\u001b[0m \u001b[0;34m\" 1 hora\"\u001b[0m\u001b[0;34m)\u001b[0m\u001b[0;34m\u001b[0m\u001b[0;34m\u001b[0m\u001b[0m\n\u001b[0m\u001b[1;32m      2\u001b[0m \u001b[0mprint\u001b[0m\u001b[0;34m(\u001b[0m\u001b[0mdt\u001b[0m\u001b[0;34m.\u001b[0m\u001b[0mtime\u001b[0m\u001b[0;34m(\u001b[0m\u001b[0;36m2\u001b[0m\u001b[0;34m,\u001b[0m \u001b[0;36m30\u001b[0m\u001b[0;34m)\u001b[0m\u001b[0;34m,\u001b[0m \u001b[0;34m\"2 Horas y 30 minutos\"\u001b[0m\u001b[0;34m)\u001b[0m\u001b[0;34m\u001b[0m\u001b[0;34m\u001b[0m\u001b[0m\n\u001b[1;32m      3\u001b[0m \u001b[0mprint\u001b[0m\u001b[0;34m(\u001b[0m\u001b[0mdt\u001b[0m\u001b[0;34m.\u001b[0m\u001b[0mtime\u001b[0m\u001b[0;34m(\u001b[0m\u001b[0;36m3\u001b[0m\u001b[0;34m,\u001b[0m \u001b[0;36m45\u001b[0m\u001b[0;34m,\u001b[0m \u001b[0;36m30\u001b[0m\u001b[0;34m)\u001b[0m\u001b[0;34m,\u001b[0m \u001b[0;34m\"3 Horas, 45 minutos y 30 segundos\"\u001b[0m\u001b[0;34m)\u001b[0m\u001b[0;34m\u001b[0m\u001b[0;34m\u001b[0m\u001b[0m\n",
            "\u001b[0;31mNameError\u001b[0m: name 'dt' is not defined"
          ]
        }
      ]
    },
    {
      "cell_type": "code",
      "metadata": {
        "colab": {
          "base_uri": "https://localhost:8080/",
          "height": 231
        },
        "id": "Cq-X5wKriaEj",
        "outputId": "c209be04-ece4-4e43-e5dc-8c48e0708ede"
      },
      "source": [
        "str_date = \"19941807 212245\"\n",
        "print(type(str_date)) \n",
        "str_date = dt.datetime.strptime(str.date, \"%Y%d%m %H%M%S\")\n",
        "print(str_date)"
      ],
      "execution_count": 19,
      "outputs": [
        {
          "output_type": "stream",
          "text": [
            "<class 'str'>\n"
          ],
          "name": "stdout"
        },
        {
          "output_type": "error",
          "ename": "AttributeError",
          "evalue": "ignored",
          "traceback": [
            "\u001b[0;31m---------------------------------------------------------------------------\u001b[0m",
            "\u001b[0;31mAttributeError\u001b[0m                            Traceback (most recent call last)",
            "\u001b[0;32m<ipython-input-19-798db6a76a57>\u001b[0m in \u001b[0;36m<module>\u001b[0;34m()\u001b[0m\n\u001b[1;32m      1\u001b[0m \u001b[0mstr_date\u001b[0m \u001b[0;34m=\u001b[0m \u001b[0;34m\"19941807 212245\"\u001b[0m\u001b[0;34m\u001b[0m\u001b[0;34m\u001b[0m\u001b[0m\n\u001b[1;32m      2\u001b[0m \u001b[0mprint\u001b[0m\u001b[0;34m(\u001b[0m\u001b[0mtype\u001b[0m\u001b[0;34m(\u001b[0m\u001b[0mstr_date\u001b[0m\u001b[0;34m)\u001b[0m\u001b[0;34m)\u001b[0m\u001b[0;34m\u001b[0m\u001b[0;34m\u001b[0m\u001b[0m\n\u001b[0;32m----> 3\u001b[0;31m \u001b[0mstr_date\u001b[0m \u001b[0;34m=\u001b[0m \u001b[0mdt\u001b[0m\u001b[0;34m.\u001b[0m\u001b[0mdatetime\u001b[0m\u001b[0;34m.\u001b[0m\u001b[0mstrptime\u001b[0m\u001b[0;34m(\u001b[0m\u001b[0mstr\u001b[0m\u001b[0;34m.\u001b[0m\u001b[0mdate\u001b[0m\u001b[0;34m,\u001b[0m \u001b[0;34m\"%Y%d%m %H%M%S\"\u001b[0m\u001b[0;34m)\u001b[0m\u001b[0;34m\u001b[0m\u001b[0;34m\u001b[0m\u001b[0m\n\u001b[0m\u001b[1;32m      4\u001b[0m \u001b[0mprint\u001b[0m\u001b[0;34m(\u001b[0m\u001b[0mstr_date\u001b[0m\u001b[0;34m)\u001b[0m\u001b[0;34m\u001b[0m\u001b[0;34m\u001b[0m\u001b[0m\n",
            "\u001b[0;31mAttributeError\u001b[0m: type object 'str' has no attribute 'date'"
          ]
        }
      ]
    },
    {
      "cell_type": "code",
      "metadata": {
        "id": "vSuRTQbnkkdq"
      },
      "source": [
        "#creacion de cadena\n",
        "s1 = 'fundamentos de programación en Python.'"
      ],
      "execution_count": 20,
      "outputs": []
    },
    {
      "cell_type": "code",
      "metadata": {
        "colab": {
          "base_uri": "https://localhost:8080/"
        },
        "id": "CTe9m-SWkq6j",
        "outputId": "ebbd1c88-94b0-45fe-a031-4c838ba14702"
      },
      "source": [
        "' programación ' in s1"
      ],
      "execution_count": 21,
      "outputs": [
        {
          "output_type": "execute_result",
          "data": {
            "text/plain": [
              "True"
            ]
          },
          "metadata": {
            "tags": []
          },
          "execution_count": 21
        }
      ]
    },
    {
      "cell_type": "code",
      "metadata": {
        "colab": {
          "base_uri": "https://localhost:8080/"
        },
        "id": "ZK5KZIHvk2Va",
        "outputId": "ca707df6-b96e-4f85-b120-69656638c789"
      },
      "source": [
        "'fundamentos' not in s1"
      ],
      "execution_count": 23,
      "outputs": [
        {
          "output_type": "execute_result",
          "data": {
            "text/plain": [
              "False"
            ]
          },
          "metadata": {
            "tags": []
          },
          "execution_count": 23
        }
      ]
    },
    {
      "cell_type": "code",
      "metadata": {
        "colab": {
          "base_uri": "https://localhost:8080/"
        },
        "id": "bp-_X5kxk-x0",
        "outputId": "e93f1cf0-d0fb-4c32-c4fc-4fd11f42d529"
      },
      "source": [
        "len(s1)"
      ],
      "execution_count": 24,
      "outputs": [
        {
          "output_type": "execute_result",
          "data": {
            "text/plain": [
              "38"
            ]
          },
          "metadata": {
            "tags": []
          },
          "execution_count": 24
        }
      ]
    },
    {
      "cell_type": "code",
      "metadata": {
        "colab": {
          "base_uri": "https://localhost:8080/"
        },
        "id": "mETlzxIglEqC",
        "outputId": "1288947a-da4b-4715-e422-ae35847b87b1"
      },
      "source": [
        "#Acceso (Indexacion - Slicing)\n",
        "print(s1[0])\n",
        "print(s1[-1])\n",
        "print(s1[4:8])\n",
        "print(s1[::-1])"
      ],
      "execution_count": 25,
      "outputs": [
        {
          "output_type": "stream",
          "text": [
            "f\n",
            ".\n",
            "amen\n",
            ".nohtyP ne nóicamargorp ed sotnemadnuf\n"
          ],
          "name": "stdout"
        }
      ]
    },
    {
      "cell_type": "code",
      "metadata": {
        "id": "_KXIcMXzkTmC"
      },
      "source": [
        "#Funciones de desplazamiento\n",
        "\n",
        "print('String centrado:')\n",
        "print(s1.center(50))\n",
        "print(s1.center(50, '_'))\n",
        "\n",
        "print('\\n\\nAlineado a la izquierda:')\n",
        "print(s1.ljust(50))\n",
        "print(s1.ljust(50, '<'))\n",
        "\n",
        "print('\\n\\nAlineado a la derecha:')\n",
        "print(s1.rjust(50))\n",
        "print(s1.rjust(50, '>'))\n",
        "\n",
        "print('\\n\\nCompletar con 0')\n",
        "print('-123.45'.zfill(4))\n",
        "print('-123.45'.zfill(12))\n"
      ],
      "execution_count": null,
      "outputs": []
    }
  ]
}